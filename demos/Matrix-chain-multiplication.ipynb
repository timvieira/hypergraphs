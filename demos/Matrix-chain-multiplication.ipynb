{
 "cells": [
  {
   "cell_type": "markdown",
   "metadata": {},
   "source": [
    "# Matrix chain multiplication"
   ]
  },
  {
   "cell_type": "markdown",
   "metadata": {},
   "source": [
    "References:\n",
    "- https://en.wikipedia.org/wiki/Matrix_chain_multiplication"
   ]
  },
  {
   "cell_type": "code",
   "execution_count": 29,
   "metadata": {},
   "outputs": [],
   "source": [
    "def matrix_chain_order(dims, Weight):\n",
    "    \"Matrix A[i] has dimension dims[i] x dims[i+1]\"\n",
    "    m = Weight.chart()    \n",
    "    n = len(dims)\n",
    "    for i in range(n):\n",
    "        m[i, i+1] = Weight.lift(0, i)\n",
    "    for w in range(2, n+1):\n",
    "        for i in range(n-w):\n",
    "            k = i + w #- 1\n",
    "            for j in range(i+1, k):\n",
    "                cost = m[i, j] * m[j, k] * Weight.lift(dims[i] * dims[j] * dims[k], None)\n",
    "                m[i, k] += cost\n",
    "    pprint(m)\n",
    "    return m[0, n-1]"
   ]
  },
  {
   "cell_type": "markdown",
   "metadata": {},
   "source": [
    "- A = 10 × 30 matrix\n",
    "- B = 30 × 5 matrix\n",
    "- C = 5 × 60 matrix\n",
    "\n",
    "- computing (AB)C needs (10×30×5) + (10×5×60) = 1500 + 3000 = 4500 operations\n",
    "- computing A(BC) needs (30×5×60) + (10×30×60) = 9000 + 18000 = 27000 operations."
   ]
  },
  {
   "cell_type": "code",
   "execution_count": 30,
   "metadata": {},
   "outputs": [
    {
     "name": "stdout",
     "output_type": "stream",
     "text": [
      "defaultdict(<function Semiring.chart.<locals>.<lambda> at 0x7ff6373bbb80>,\n",
      "            {(0, 1): MinPlus(0, 0),\n",
      "             (0, 2): MinPlus(1500, ((0, 1), None)),\n",
      "             (0, 3): MinPlus(4500, ((((0, 1), None), 2), None)),\n",
      "             (1, 2): MinPlus(0, 1),\n",
      "             (1, 3): MinPlus(9000, ((1, 2), None)),\n",
      "             (2, 3): MinPlus(0, 2),\n",
      "             (3, 4): MinPlus(0, 3)})\n",
      "MinPlus(4500, ((((0, 1), None), 2), None))\n"
     ]
    }
   ],
   "source": [
    "from pprint import pprint\n",
    "from hypergraphs.semirings import MinPlus\n",
    "\n",
    "z = matrix_chain_order([10, 30, 5, 60], MinPlus)\n",
    "print(z)"
   ]
  },
  {
   "cell_type": "code",
   "execution_count": 31,
   "metadata": {},
   "outputs": [
    {
     "name": "stdout",
     "output_type": "stream",
     "text": [
      "MinPlus(4500, ((((0, 1), None), 2), None))\n"
     ]
    }
   ],
   "source": [
    "print(z)"
   ]
  },
  {
   "cell_type": "markdown",
   "metadata": {},
   "source": [
    "TODO: make the backpointers more readable: return something that looks like `((A*B)*C)` instead of the implicit representation (0,1)=A; ((0,1),2) = (A*B),"
   ]
  },
  {
   "cell_type": "code",
   "execution_count": null,
   "metadata": {},
   "outputs": [],
   "source": []
  }
 ],
 "metadata": {
  "kernelspec": {
   "display_name": "Python 3",
   "language": "python",
   "name": "python3"
  },
  "language_info": {
   "codemirror_mode": {
    "name": "ipython",
    "version": 3
   },
   "file_extension": ".py",
   "mimetype": "text/x-python",
   "name": "python",
   "nbconvert_exporter": "python",
   "pygments_lexer": "ipython3",
   "version": "3.8.8"
  }
 },
 "nbformat": 4,
 "nbformat_minor": 4
}
